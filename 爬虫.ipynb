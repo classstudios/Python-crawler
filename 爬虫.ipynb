{
 "cells": [
  {
   "cell_type": "code",
   "execution_count": 15,
   "metadata": {},
   "outputs": [
    {
     "name": "stdout",
     "output_type": "stream",
     "text": [
      "<title data-vue-meta=\"true\">字幕君交流场所_哔哩哔哩 (゜-゜)つロ 干杯~-bilibili</title>\n",
      "<head itemprop=\"video\" itemscope=\"\" itemtype=\"http://schema.org/VideoObject\"><meta content=\"telephone=no, email=no\" name=\"format-detection\"/><meta charset=\"utf-8\" content=\"text/html\" http-equiv=\"Content-Type\"/><title data-vue-meta=\"true\">字幕君交流场所_哔哩哔哩 (゜-゜)つロ 干杯~-bilibili</title> <meta content=\"webkit\" data-vue-meta=\"true\" name=\"renderer\"/><meta content=\"IE=edge\" data-vue-meta=\"true\" http-equiv=\"X-UA-Compatible\"/><meta content=\"333.788\" data-vue-meta=\"true\" name=\"spm_prefix\"/><meta content=\"字幕君交流场所,,,哔哩哔哩,Bilibili,B站,弹幕\" data-vue-meta=\"true\" itemprop=\"keywords\" name=\"keywords\"/><meta content=\"www\" data-vue-meta=\"true\" itemprop=\"description\" name=\"description\"/><meta content=\"碧诗\" data-vue-meta=\"true\" itemprop=\"author\" name=\"author\"/><meta content=\"字幕君交流场所_哔哩哔哩 (゜-゜)つロ 干杯~-bilibili\" data-vue-meta=\"true\" itemprop=\"name\" name=\"title\"/><meta content=\"https://www.bilibili.com/video/av2/\" data-vue-meta=\"true\" itemprop=\"url\"/><meta content=\"http://static.hdslb.com/images/transparent.gif\" data-vue-meta=\"true\" itemprop=\"image\"/><meta content=\"http://static.hdslb.com/images/transparent.gif\" data-vue-meta=\"true\" itemprop=\"thumbnailUrl\"/><meta content=\"2009-09-09 09:09:09\" data-vue-meta=\"true\" itemprop=\"uploadDate\"/><meta content=\"2017-06-13 17:06:38\" data-vue-meta=\"true\" itemprop=\"datePublished\"/><meta content=\"貌似没人来,人类最古のav号（挂了的不算）也变成bv了[大哭][大哭][大哭]青春结束了,(〜￣△￣)〜  为了找寻人类足迹首次出现在B站的起源，我义无反顾的踏上了旅途，终于在2015年7月4日22点04分时发现这一神迹，为了见证这一伟大奇迹的诞生，我不得不发一条评论来证明我曾经在人类历史遗迹中留下浓厚的一笔，我的子孙啊，如果你将来有幸看到我的这条评论，希望你能为你的祖先感到骄傲和自豪，因为你的祖先可是全人类第277位见证这一奇迹的人啊！ 〜(￣△￣〜)\" data-vue-meta=\"true\" itemprop=\"comment\"/><meta content=\"58981\" data-vue-meta=\"true\" itemprop=\"commentCount\"/><meta content=\"video\" data-vue-meta=\"true\" property=\"og:type\"/><meta content=\"字幕君交流场所_哔哩哔哩 (゜-゜)つロ 干杯~-bilibili\" data-vue-meta=\"true\" property=\"og:title\"/><meta content=\"http://static.hdslb.com/images/transparent.gif\" data-vue-meta=\"true\" property=\"og:image\"/><meta content=\"https://www.bilibili.com/video/av2/\" data-vue-meta=\"true\" property=\"og:url\"/><meta content=\"846\" data-vue-meta=\"true\" property=\"og:width\"/><meta content=\"566\" data-vue-meta=\"true\" property=\"og:height\"/> <link data-vue-meta=\"true\" href=\"https://www.bilibili.com/video/av2/\" rel=\"canonical\"/><script type=\"text/javascript\">!function(){for(var o=window.navigator.userAgent,i=[\"Android\",\"iPhone\",\"SymbianOS\",\"Windows Phone\",\"iPod\"],r=!0,a=0,n=i.length;a<n;a++)if(0<o.indexOf(i[a])){r=!1;break}if(!r){var e=window.location.origin.replace(\"www\",\"m\")+\"/video/\"+window.location.href.match(/(av[0-9]+)|bv1\\w+/g)[0]+window.location.search;window.location.href=e}}(),window.spmReportData={},window.reportConfig={sample:1,scrollTracker:!0,msgObjects:\"spmReportData\",errorTracker:!0,hasAbtest:!0,abtestPlatform:4}</script><script type=\"text/javascript\">window.__BILI_CONFIG__={\"show_bv\":true}</script><style>.ie-fix{background:#fff;position:fixed;left:0;top:0;right:0;bottom:0;width:100%;height:100%;z-index:9999999}.ie-fix .title{background:#00a1d6;text-align:center;padding:10px 0;color:#fff}</style><script>window.__INITIAL_STATE__={\"aid\":2,\"bvid\":\"\",\"p\":\"\",\"videoData\":{\"bvid\":\"BV1xx411c7mD\",\"aid\":2,\"videos\":1,\"tid\":12,\"tname\":\"\",\"copyright\":2,\"pic\":\"http:\\u002F\\u002Fstatic.hdslb.com\\u002Fimages\\u002Ftransparent.gif\",\"title\":\"字幕君交流场所\",\"pubdate\":1252458549,\"ctime\":1497344798,\"desc\":\"www\",\"state\":0,\"attribute\":2130003,\"duration\":2055,\"rights\":{\"bp\":0,\"elec\":0,\"download\":1,\"movie\":0,\"pay\":0,\"hd5\":0,\"no_reprint\":0,\"autoplay\":1,\"ugc_pay\":0,\"is_cooperation\":0,\"ugc_pay_preview\":0,\"no_background\":0},\"owner\":{\"mid\":2,\"name\":\"碧诗\",\"face\":\"http:\\u002F\\u002Fi1.hdslb.com\\u002Fbfs\\u002Fface\\u002F3e60b20604b6fdc7d081eb6a1ec72aa47c5a3964.jpg\"},\"stat\":{\"aid\":2,\"view\":\"--\",\"danmaku\":\"--\",\"reply\":58981,\"favorite\":\"--\",\"coin\":\"--\",\"share\":\"--\",\"now_rank\":0,\"his_rank\":0,\"like\":\"--\",\"dislike\":0,\"evaluation\":\"\",\"viewseo\":1887546},\"dynamic\":\"\",\"cid\":62131,\"dimension\":{\"width\":0,\"height\":0,\"rotate\":0},\"no_cache\":false,\"pages\":[{\"cid\":62131,\"page\":1,\"from\":\"vupload\",\"part\":\"\",\"duration\":2055,\"vid\":\"\",\"weblink\":\"\",\"dimension\":{\"width\":0,\"height\":0,\"rotate\":0}}],\"subtitle\":{\"allow_submit\":false,\"list\":[]},\"embedPlayer\":\"EmbedPlayer(\\\"player\\\", \\\"\\u002F\\u002Fs1.hdslb.com\\u002Fbfs\\u002Fstatic\\u002Fplayer\\u002Fmain\\u002Fflash\\u002Fplay.swf\\\", \\\"cid=62131&aid=2&attribute=2130003&bvid=BV1xx411c7mD&show_bv=1\\\")\"},\"upData\":{\"mid\":\"2\",\"name\":\"碧诗\",\"approve\":false,\"sex\":\"男\",\"rank\":\"20000\",\"face\":\"http:\\u002F\\u002Fi1.hdslb.com\\u002Fbfs\\u002Fface\\u002F3e60b20604b6fdc7d081eb6a1ec72aa47c5a3964.jpg\",\"DisplayRank\":\"0\",\"regtime\":0,\"spacesta\":0,\"birthday\":\"\",\"place\":\"\",\"description\":\"\",\"article\":0,\"attentions\":[],\"fans\":827242,\"friend\":193,\"attention\":193,\"sign\":\"kami.im 直男过气网红 # av362830 “We Are Star Dust”\",\"level_info\":{\"current_level\":6,\"current_min\":0,\"current_exp\":0,\"next_exp\":0},\"pendant\":{\"pid\":76,\"name\":\"管理员\",\"image\":\"http:\\u002F\\u002Fi2.hdslb.com\\u002Fbfs\\u002Fface\\u002F02a3b79edef0f0e682de7f5dca7b6b5fe36d5f65.png\",\"expire\":0},\"nameplate\":{\"nid\":10,\"name\":\"见习偶像\",\"image\":\"http:\\u002F\\u002Fi0.hdslb.com\\u002Fbfs\\u002Fface\\u002Fe93dd9edfa7b9e18bf46fd8d71862327a2350923.png\",\"image_small\":\"http:\\u002F\\u002Fi0.hdslb.com\\u002Fbfs\\u002Fface\\u002F275b468b043ec246737ab8580a2075bee0b1263b.png\",\"level\":\"普通勋章\",\"condition\":\"所有自制视频总播放数\\u003E=10万\"},\"Official\":{\"role\":2,\"title\":\"bilibili创始人（站长）\",\"desc\":\"\",\"type\":0},\"official_verify\":{\"type\":0,\"desc\":\"bilibili创始人（站长）\"},\"vip\":{\"vipType\":2,\"dueRemark\":\"\",\"accessStatus\":0,\"vipStatus\":1,\"vipStatusWarn\":\"\",\"theme_type\":0},\"archiveCount\":35},\"staffData\":[],\"tags\":[],\"comment\":{\"count\":58981,\"list\":[\"貌似没人来\",\"人类最古のav号（挂了的不算）也变成bv了[大哭][大哭][大哭]青春结束了\",\"(〜￣△￣)〜  为了找寻人类足迹首次出现在B站的起源，我义无反顾的踏上了旅途，终于在2015年7月4日22点04分时发现这一神迹，为了见证这一伟大奇迹的诞生，我不得不发一条评论来证明我曾经在人类历史遗迹中留下浓厚的一笔，我的子孙啊，如果你将来有幸看到我的这条评论，希望你能为你的祖先感到骄傲和自豪，因为你的祖先可是全人类第277位见证这一奇迹的人啊！ 〜(￣△￣〜)\"]},\"related\":[],\"isClient\":false,\"error\":{},\"player\":\"\",\"playurl\":{},\"user\":{},\"cidMap\":{},\"insertScripts\":[\"\\u002F\\u002Fs1.hdslb.com\\u002Fbfs\\u002Fstatic\\u002Fjinkela\\u002Fvideo\\u002Fstardust-video.bbdf0c46e45670bd8288b7b3c84b076e6290abaf.js\"],\"BILI_CONFIG\":{\"show_bv\":true}};(function(){var s;(s=document.currentScript||document.scripts[document.scripts.length-1]).parentNode.removeChild(s);}());</script> <link href=\"//s1.hdslb.com/bfs/static/jinkela/video/css/stardust-video.0.bbdf0c46e45670bd8288b7b3c84b076e6290abaf.css\" rel=\"stylesheet\"/></head>\n",
      "<a class=\"btn-add\"><span class=\"one\"></span><span class=\"two\"></span></a>\n",
      "None\n",
      "<class 'NoneType'>\n"
     ]
    }
   ],
   "source": [
    "#requests.get示例\n",
    "import requests\n",
    "import re\n",
    "from bs4 import BeautifulSoup\n",
    "\n",
    "html=requests.get('https://www.bilibili.com/video/av2')  \n",
    "#res.encoding='utf-8'  #这一句是为了避免中文乱码\n",
    "soup = BeautifulSoup(html.text)\n",
    "title = soup.find(name='span', attrs={\"class\": \"tit\"})\n",
    "print(soup.title)\n",
    "print(soup.head)\n",
    "print(soup.a)\n",
    "print(soup.p)\n",
    "print(type(soup.p))"
   ]
  },
  {
   "cell_type": "code",
   "execution_count": 14,
   "metadata": {},
   "outputs": [
    {
     "name": "stdout",
     "output_type": "stream",
     "text": [
      "['字幕君交流场所']\n"
     ]
    }
   ],
   "source": [
    "title=str(title)\n",
    "title = re.findall('<span .*?>(.+)</span>', title)\n",
    "print(title)"
   ]
  }
 ],
 "metadata": {
  "kernelspec": {
   "display_name": "Python 3",
   "language": "python",
   "name": "python3"
  },
  "language_info": {
   "codemirror_mode": {
    "name": "ipython",
    "version": 3
   },
   "file_extension": ".py",
   "mimetype": "text/x-python",
   "name": "python",
   "nbconvert_exporter": "python",
   "pygments_lexer": "ipython3",
   "version": "3.8.2"
  }
 },
 "nbformat": 4,
 "nbformat_minor": 4
}
